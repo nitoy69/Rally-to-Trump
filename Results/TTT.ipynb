{
  "nbformat": 4,
  "nbformat_minor": 0,
  "metadata": {
    "colab": {
      "name": "RTT.ipynb",
      "provenance": []
    },
    "kernelspec": {
      "name": "python3",
      "display_name": "Python 3"
    }
  },
  "cells": [
    {
      "cell_type": "code",
      "metadata": {
        "id": "Ru_IfCidpryq",
        "colab_type": "code",
        "colab": {}
      },
      "source": [
        ""
      ],
      "execution_count": null,
      "outputs": []
    },
    {
      "cell_type": "code",
      "metadata": {
        "id": "coCWGxjppxRn",
        "colab_type": "code",
        "colab": {}
      },
      "source": [
        ""
      ],
      "execution_count": null,
      "outputs": []
    },
    {
      "cell_type": "markdown",
      "metadata": {
        "id": "YouaBx5CpuGT",
        "colab_type": "text"
      },
      "source": [
        "# **Demographic Analysis of PATS vs. non-Pats per State**\n",
        "Table of PATS vs. Non-PATS in Texas by County"
      ]
    },
    {
      "cell_type": "code",
      "metadata": {
        "id": "YjH1Q8VbqU4t",
        "colab_type": "code",
        "colab": {}
      },
      "source": [
        "#Find Hoax-propogator sources for reference bank of links to use in push texts\n",
        "import pandas as pd"
      ],
      "execution_count": null,
      "outputs": []
    }
  ]
}
